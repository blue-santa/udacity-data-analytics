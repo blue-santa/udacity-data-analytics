{
 "cells": [
  {
   "cell_type": "markdown",
   "metadata": {},
   "source": [
    "## Matplotlib | Exploring Data"
   ]
  },
  {
   "cell_type": "code",
   "execution_count": 2,
   "metadata": {},
   "outputs": [],
   "source": [
    "import pandas as pd\n",
    "import matplotlib as mp\n",
    "\n",
    "%matplotlib inline"
   ]
  },
  {
   "cell_type": "code",
   "execution_count": 3,
   "metadata": {},
   "outputs": [],
   "source": [
    "# data.hist();\n",
    "# data['data_column'].hist();\n",
    "# data['data_column'].plot(kind='hist');\n",
    "# data['data_column'].value_counts()\n",
    "# data['data_column'].value_counts().bar()\n",
    "# data['data_column'].value_counts().plot(kind='pie', figsize=(8, 8))\n",
    "\n",
    "# Scatter Plots\n",
    "# pd.plotting.scatter_matrix(data, figsize=(15, 15))\n",
    "# data.plot(x='x-axis-column', y='y-axis-column', kind='scatter')\n",
    "\n",
    "# Box Plot\n",
    "# data['data_column'].plot(kind='box');"
   ]
  },
  {
   "cell_type": "code",
   "execution_count": 3,
   "metadata": {},
   "outputs": [],
   "source": [
    "# df_m = df[df['diagnosis'] == 'M']\n",
    "\n",
    "# mask = df['diagnosis'] == 'M'\n",
    "# df_m = df[mask]\n",
    "\n",
    "# df_m['area'].describe()\n",
    "# print('The mean area of malignant tumors is {0:.4f} while that of benign tumors is {1:.4f}'.format(df_m['area'].mean(), df_b['area'].mean()))\n",
    "\n",
    "# fig, ax = plt.subplots(figsize=(8, 6))\n",
    "# ax.hist(df_b['area'], alpha=0.5, label='benign')\n",
    "# ax.hist(df_m['area'], alpha=0.5, label='malignant')\n",
    "# ax.set_title('Distributions of Benign and Malignant Tumor Areas')\n",
    "# ax.set_xlabel('Area')\n",
    "# ax.set_ylabel('Count')\n",
    "# ax.legend(loc='upper right')\n",
    "# plt.show()"
   ]
  },
  {
   "cell_type": "code",
   "execution_count": 5,
   "metadata": {},
   "outputs": [],
   "source": [
    "# df_census = pd.read_csv('census_income_data.csv')\n",
    "# df_a = df_census[df_census['income'] == ' >50K']\n",
    "# df_b = df_census[df_census['income'] == ' <=50K']\n",
    "\n",
    "# ind = df_a['education'].value_counts().index\n",
    "# df_a['education'].value_counts()[ind].plot(kind='bar')\n",
    "# df_b['education'].value_counts()[ind].plot(kind='bar')"
   ]
  },
  {
   "cell_type": "code",
   "execution_count": 2,
   "metadata": {},
   "outputs": [],
   "source": [
    "# ind = df_a['workclass'].value_counts().index\n",
    "# df_a['workclass'].value_counts()[ind].plot(kind='pie', figsize=(8, 8))\n",
    "# df_a['age'].hist();\n",
    "# df_b['age'].hist();\n",
    "# df_a.describe()\n",
    "# df_b.describe()"
   ]
  },
  {
   "cell_type": "code",
   "execution_count": 5,
   "metadata": {},
   "outputs": [],
   "source": [
    "# colors = ['red', 'white']\n",
    "# color_means = wine_df.groupby('color')['quality'].mean()\n",
    "# color_means.plot(kind='bar', title='Average Wine Quality by Color', color=colors, alpha=0.7);\n",
    "# plt.xlabel('Colors', fontsize=18)\n",
    "# plt.ylabel('Quality', fontsize=18)"
   ]
  },
  {
   "cell_type": "code",
   "execution_count": 6,
   "metadata": {},
   "outputs": [],
   "source": [
    "# counts = wine_df.groupby(['quality', 'color']).count()['pH']\n",
    "# counts.plot(kind='bar', title='Counts by Wine Color and Quality', color=colors, alpha=0.7);\n",
    "# plt.xlabel('Quality and Color', fontsize=18)\n",
    "# plt.ylabel('Count', fontsize=18)"
   ]
  },
  {
   "cell_type": "code",
   "execution_count": 7,
   "metadata": {},
   "outputs": [],
   "source": [
    "# totals = wine_df.groupby('color').count()['pH']\n",
    "# proportions = counts / totals\n",
    "# proportions.plot(kind='bar', title='Proportion by Wine Color and Quality', color=colors, alpha=0.7);\n",
    "# plt.xlabel('Quality and Color', fontsize=18)\n",
    "# plt.ylabel('Count', fontsize=18)"
   ]
  },
  {
   "cell_type": "code",
   "execution_count": null,
   "metadata": {},
   "outputs": [],
   "source": []
  }
 ],
 "metadata": {
  "kernelspec": {
   "display_name": "Python 3",
   "language": "python",
   "name": "python3"
  },
  "language_info": {
   "codemirror_mode": {
    "name": "ipython",
    "version": 3
   },
   "file_extension": ".py",
   "mimetype": "text/x-python",
   "name": "python",
   "nbconvert_exporter": "python",
   "pygments_lexer": "ipython3",
   "version": "3.7.6"
  }
 },
 "nbformat": 4,
 "nbformat_minor": 4
}
