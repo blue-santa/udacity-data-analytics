{
 "cells": [
  {
   "cell_type": "markdown",
   "metadata": {},
   "source": [
    "This project was an enjoyable exploration into the task of wrangling data. Overall, the project was not difficult, although it was time consuming.\n",
    "\n",
    "I began the project by importing all the data. The main data and the predictions data I simply imported, using pandas `read_csv()` function. \n",
    "\n",
    "I am not fan of social media and generally avoid using social media accounts, due to privacy concerns. I do not have a personal Twitter account. For this reason, I chose not to create a Twitter API account to download all the data for the given Tweet ID's in the table. I do understand the general concept of how this API would function, and if I choose to do this in the future, I have saved a copy of the suggested python code.\n",
    "\n",
    "After importing the data, I assessed it. The most prominent data and quality issues I found are as follows:\n",
    "\n",
    "### Quality\n",
    "\n",
    "- Rating denom is 0 for row 313. Should be 13/10.\n",
    "- Dog name 'such', 'a', 'quite','not', 'mad' found. The 'This is ...' str extractor didn't work properly\n",
    "- Name column value is not accurate when the name value comes after lower case `this is [name]` in text\n",
    "- RIP name not included\n",
    "- Names followed by `name is ...` are not included\n",
    "- Some tweets are RT's, as evidenced by first part of tweet\n",
    "- When two dogs, Bentley/Millie, only first shows up\n",
    "- Dropping unneeded columns\n",
    "- Drop rows where df_tweets or df_predictions have no data for a tweet_id\n",
    "- tweet_id is integer, should be string, in_reply_to... and retweeted_... are in float, should be string\n",
    "- timestamp should be datetime, instead of object, timestamp column contains +0000 which looks redundant.\n",
    "- In some of the columns there is None instead of NaN\n",
    "- Some image predictions do not indicate dogs\n",
    "- Get rid of extra content in source column\n",
    "- Some `favorite_count` values are `0`, which seems unlikely.\n",
    "- Drop any remaining rows that are retweets.\n",
    "- Some `retweeted_status_id` values are actually garbled strings from the `text column`.\n",
    "- Missing numerators\n",
    "- Denominator in names\n",
    "- Rows where `retweeted_status_timestamp` has values should all be removed as they are retweets\n",
    "\n",
    "### Tidyness\n",
    "\n",
    "- Columns have puppo, floofer, etc, and then None, and then the variable name\n",
    "- Organize main dataframe, combine all into one\n",
    "\n",
    "Some of these issues I found immediately, others I found during the course of the Cleaning stage.\n",
    "\n",
    "I dropped all rows for which all three original datasets did not have at least some values. This resulted in a greatly reduced dataset, with only `1994` values, as opposed to the original `5000`.\n",
    "\n",
    "If I had time to clean this dataset to perfection, there are many additional tasks I would complete. For example, I noticed towards the end of the project that some of the `text` column had been split into the `retweeted_status_id` column, and in these rows, the `rating_numerator` was empty and the appropriate value thereof was misplaced into the `rating_denominator` column, while the latter's value was misplaced into the `name` column. "
   ]
  }
 ],
 "metadata": {
  "kernelspec": {
   "display_name": "Python 3",
   "language": "python",
   "name": "python3"
  },
  "language_info": {
   "codemirror_mode": {
    "name": "ipython",
    "version": 3
   },
   "file_extension": ".py",
   "mimetype": "text/x-python",
   "name": "python",
   "nbconvert_exporter": "python",
   "pygments_lexer": "ipython3",
   "version": "3.7.6"
  }
 },
 "nbformat": 4,
 "nbformat_minor": 4
}
